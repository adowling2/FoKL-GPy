{
 "cells": [
  {
   "cell_type": "markdown",
   "metadata": {},
   "source": [
    "# <h1 style=\"text-align: center;\">Optimal Control of TCLab using a Gaussian process regression embedded in Pyomo</h1>\n",
    "\n",
    "<p style=\"text-align: center;\">Alex Dowling<sup>1,a</sup>, Jacob P. Krell<sup>2</sup>, David S. Mebane<sup>2,b</sup>, Kyla Jones<sup>1</sup></p>\n",
    "\n",
    "<p style=\"text-align: center;\"><sup>1</sup>Department of Chemical and Biomolecular Engineering, University of Notre Dame, Notre Dame, IN 46556, USA <br>\n",
    "<sup>2</sup>Department of Mechanical and Aerospace Engineering, West Virginia University, Morgantown, WV, 26506-6106, USA</p>\n",
    "\n",
    "<sup>a</sup>adowling@nd.edu <br>\n",
    "<sup>b</sup>david.mebane@mail.wvu.edu\n",
    "\n",
    "---\n",
    "\n",
    "## Abstract\n",
    "\n",
    "blah\n",
    "\n",
    "---\n",
    "\n",
    "## v4\n",
    "\n",
    "### Nomenclature\n",
    "\n",
    "- $\\mathbf{GP}_{T_i} \\equiv$ GP model of $T_i$\n",
    "- $\\mathbf{GP}_{Q_j} \\equiv$ GP model of $Q_j$\n",
    "- $T_i \\equiv$ temperature of port $i$\n",
    "- $Q_i \\equiv$ heater power of port $i$\n",
    "- $t \\equiv$ time elapsed since $t_0$, where $T_i(t_0) = T_{i,\\text{ref}}$\n",
    "\n",
    "### Method\n",
    "\n",
    "$$\\tag{1} i, j\\ \\exist\\ [1, 2]$$\n",
    "\n",
    "$$\\tag{1} \\mathbf{GP}_{T_i} = \\{T_i\\ |\\ t,\\ Q_1,\\ Q_2\\}$$\n",
    "\n",
    "$$\\tag{1} \\mathbf{GP}_{Q_j} = \\{Q_j\\ |\\ t\\}$$\n",
    "\n",
    "$$\\tag{1} T_i = f(t, Q_1(t), Q_2(t))$$\n",
    "\n",
    "$$\\tag{1} \\frac{dT_i}{dt} = \\frac{\\partial T_i}{\\partial t} + \\left(\\frac{\\partial T_i}{\\partial Q_1}\\right) \\frac{dQ_1}{dt} + \\left(\\frac{\\partial T_i}{\\partial Q_2}\\right) \\frac{dQ_2}{dt}$$\n",
    "\n",
    "\n",
    "$$\\tag{1a} \\begin{align}\n",
    "C^H_p\\frac{dT_{H,1}}{dt} & = U_a(T_{amb} - T_{H,1}) + U_b(T_{S,1} - T_{H,1}) + \\alpha P_1u_1\\\\\n",
    "\\tag{1b} C^S_p\\frac{dT_{S,1}}{dt} & = U_b(T_{H,1} - T_{S,1}) \n",
    "\\end{align}$$\n",
    "\n",
    "#### Goal\n",
    "\n",
    "The goal then is to model $\\frac{dT_{S,i}}{dt}$ directly, i.e., $\\frac{dT_i}{dt}$, better than the ODE. The ODE's second equation is then simply replaced by $\\frac{dT_i}{dt}$ calculated from the GP.\n",
    "\n",
    "Or, use only the first ODE equation (since goal is to get $T_H$) where $T_S$, i.e., $T_i$, is calculated directly from the $\\mathbf{GP}_{T_i}$.\n",
    "\n",
    "The question then becomes how to model either $T_i$ or $\\frac{dT_i}{dt}$ to best achieve $T_S$, i.e., $T_i$, predictions in the ODE used to obtain $T_H$.\n",
    "\n",
    "EFFECTIVELY, GP predictions of $T_i$ (no matter how obtained, but constrained to FoKL-GPy methods / chain rule) need to be better than the ODE result which only uses $T_{ref}$. THEN, the GP model may be placed inside the ODE (using only the first equation, or with second too to PROPAGATE $T_S$ if dT is modeled) for the sole sake of obtaining $T_H$.\n",
    "\n",
    "---\n",
    "\n",
    "## Plot of ODE results $T_{1,S}$ for reference"
   ]
  },
  {
   "cell_type": "code",
   "execution_count": null,
   "metadata": {},
   "outputs": [],
   "source": []
  },
  {
   "cell_type": "markdown",
   "metadata": {},
   "source": []
  },
  {
   "cell_type": "code",
   "execution_count": null,
   "metadata": {},
   "outputs": [],
   "source": []
  },
  {
   "cell_type": "markdown",
   "metadata": {},
   "source": [
    "\n",
    "---\n",
    "\n",
    "## v4a - first attempt to model $T_{1,S}$"
   ]
  },
  {
   "cell_type": "code",
   "execution_count": null,
   "metadata": {},
   "outputs": [],
   "source": []
  },
  {
   "cell_type": "markdown",
   "metadata": {},
   "source": []
  },
  {
   "cell_type": "code",
   "execution_count": null,
   "metadata": {},
   "outputs": [],
   "source": []
  },
  {
   "cell_type": "markdown",
   "metadata": {},
   "source": []
  },
  {
   "cell_type": "code",
   "execution_count": null,
   "metadata": {},
   "outputs": [],
   "source": []
  },
  {
   "cell_type": "markdown",
   "metadata": {},
   "source": [
    "---\n",
    "\n",
    "#### What to do with $T_H$ in order to gauge accuracy of model\n",
    "\n",
    "pyomo stuff / optimal control\n",
    "\n",
    "## References\n",
    "\n",
    "### [ode45](https://www.mathworks.com/help/matlab/ref/ode45.html#bu00_4l_sep_shared-odefun):\n",
    "\n",
    "Inputs: \n",
    "- $(y_1, y_2)_{t_0}$\n",
    "- $y'_1 = y_1 + 2y_2$\n",
    "- $y'_2 = 3y_1 + 2y_2$\n",
    "\n",
    "Output:\n",
    "- $(y_1, y_2)_t$\n",
    "\n",
    "### TCLab\n",
    "\n",
    "- [linear ODE model](https://ndcbe.github.io/controls/notebooks/02.05-Second-Order.html)\n",
    "- [predictive control using ODE (Optimization-Estimation-Control)](https://ndcbe.github.io/controls/notebooks/07-TCLab-Optimization-Estimation-Control.html)\n",
    "- [predictive control using ODE (Model-Predictive-Control)](https://ndcbe.github.io/controls/notebooks/06-TCLab-Model-Predictive-Control.html)\n",
    "- [workshop tutorial on model-based design of experiments](https://dowlinglab.github.io/pyomo-doe/Readme.html)"
   ]
  }
 ],
 "metadata": {
  "language_info": {
   "name": "python"
  }
 },
 "nbformat": 4,
 "nbformat_minor": 2
}
