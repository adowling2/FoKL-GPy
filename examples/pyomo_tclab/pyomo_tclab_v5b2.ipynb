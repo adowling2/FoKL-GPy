{
 "cells": [
  {
   "cell_type": "markdown",
   "metadata": {},
   "source": [
    "# v5b2\n",
    "\n",
    "- rolling average\n",
    "- $\\cos(Q_1)$ instead of $15\\text{s}$ lag when training $\\mathbf{GP}_{\\Delta T}$\n",
    "- attempt at embedding residual inside of ODE, since residual in previous versions probably cannot help $T_{H,1}$\n",
    "\n",
    "## Setup"
   ]
  },
  {
   "cell_type": "code",
   "execution_count": null,
   "metadata": {
    "vscode": {
     "languageId": "plaintext"
    }
   },
   "outputs": [],
   "source": []
  }
 ],
 "metadata": {
  "language_info": {
   "name": "python"
  }
 },
 "nbformat": 4,
 "nbformat_minor": 2
}
