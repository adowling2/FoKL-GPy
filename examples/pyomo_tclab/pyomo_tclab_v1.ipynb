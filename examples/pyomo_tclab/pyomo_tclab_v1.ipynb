{
 "cells": [
  {
   "cell_type": "code",
   "execution_count": null,
   "metadata": {},
   "outputs": [],
   "source": [
    "# Modeling TCLab"
   ]
  },
  {
   "cell_type": "code",
   "execution_count": null,
   "metadata": {},
   "outputs": [],
   "source": [
    "from FoKL import FoKLRoutines\n",
    "import numpy as np\n",
    "import pyomo.environ as pyo\n",
    "import pandas as pd\n",
    "\n",
    "\n",
    "def import_data(filename='tclab_sine_test.cv')\n",
    "    # Known dataset:\n",
    "    data = np.loadtxt(filename, dtype=float, delimiter=',')\n",
    "    x = data[:, 0]\n",
    "    y = data[:, 1]\n",
    "    return x, y"
   ]
  }
 ],
 "metadata": {
  "language_info": {
   "name": "python"
  }
 },
 "nbformat": 4,
 "nbformat_minor": 2
}
