{
 "cells": [
  {
   "cell_type": "markdown",
   "metadata": {},
   "source": [
    "# <h1 style=\"text-align: center;\">Optimal Control of TCLab using a Gaussian process regression embedded in Pyomo</h1>\n",
    "\n",
    "<p style=\"text-align: center;\">Alex Dowling<sup>1,a</sup>, Jacob P. Krell<sup>2</sup>, David S. Mebane<sup>2,b</sup>, Kyla Jones<sup>1</sup></p>\n",
    "\n",
    "<p style=\"text-align: center;\"><sup>1</sup>Department of Chemical and Biomolecular Engineering, University of Notre Dame, Notre Dame, IN 46556, USA <br>\n",
    "<sup>2</sup>Department of Mechanical and Aerospace Engineering, West Virginia University, Morgantown, WV, 26506-6106, USA</p>\n",
    "\n",
    "<sup>a</sup>adowling@nd.edu <br>\n",
    "<sup>b</sup>david.mebane@mail.wvu.edu\n",
    "\n",
    "---\n",
    "\n",
    "## Introduction\n",
    "\n",
    "TCLab has been modeled as an ODE with two states $(T_{H,1}, T_{S,1})$ reasonably well. Introducing a Gaussian process (GP) to predict one of these states within the ODE may improve overall model accuracy. The sections of code are as follows.\n",
    "\n",
    "1. original ODE with two states, i.e., \"Two State Model\"\n",
    "\n",
    "$$\\begin{align} \n",
    "\\tag{1a} C^H_p\\frac{dT_{H,1}}{dt} & = U_a(T_{amb} - T_{H,1}) + U_b(T_{S,1} - T_{H,1}) + \\alpha P_1u_1 \\\\ \n",
    "\\tag{1b} C^S_p\\frac{dT_{S,1}}{dt} & = U_b(T_{H,1} - T_{S,1}) \n",
    "\\end{align}$$\n",
    "\n",
    "2. GP model of state $T_{S,1}$\n",
    "    - $\\mathbf{GP}_\\text{T1} = \\{T_{S,1} |\\ t\\}$\n",
    "- IF $t$ IN ODE IS AT CURRENT TIME RATHER THAN NEXT TIME, USE THE FOLLOWING.\n",
    "\n",
    "$$\\tag{2a} C^H_p\\frac{dT_{H,1}}{dt} = U_a(T_{amb} - T_{H,1}) + U_b(\\mathbf{GP}_\\text{T1}(t) - T_{H,1}) + \\alpha P_1u_1$$\n",
    "\n",
    "- HOWEVER, IF $t$ is CURRENT TIME, USE THE FOLLOWING.\n",
    "    - (2b) may need to be modified such that next ODE function call obtains $\\left(T_{S,1}\\right)_{\\text{next}} = \\left(\\mathbf{GP}_\\text{T1}(t)\\right)_{\\text{current}}$\n",
    "\n",
    "$$\\begin{align} \n",
    "\\tag{2a} C^H_p\\frac{dT_{H,1}}{dt} & = U_a(T_{amb} - T_{H,1}) + U_b(T_{S,1} - T_{H,1}) + \\alpha P_1u_1 \\\\\n",
    "\\tag{2b} \\frac{dT_{S,1}}{dt} & = \\mathbf{GP}_\\text{T1}(t) - T_{S,1}\n",
    "\\end{align}$$\n",
    "\n",
    "3. GP model of state's numeric derivative $\\Delta T_{S,1}$ yielding ODE with two states $(T_{H,1}, T_{S,1})$\n",
    "    - $\\mathbf{GP}_\\text{dT1} = \\{\\Delta T_{S,1} |\\ t\\}$\n",
    "\n",
    "$$\\begin{align} \n",
    "\\tag{3a} C^H_p\\frac{dT_{H,1}}{dt} & = U_a(T_{amb} - T_{H,1}) + U_b(T_{S,1} - T_{H,1}) + \\alpha P_1u_1 \\\\ \n",
    "\\tag{3b} \\frac{dT_{S,1}}{dt} & = \\mathbf{GP}_\\text{dT1}(t) \n",
    "\\end{align}$$\n",
    "\n",
    "4. GP model applied to any of the above's residual\n",
    "\n",
    "---\n",
    "\n",
    "## Setup"
   ]
  },
  {
   "cell_type": "code",
   "execution_count": null,
   "metadata": {},
   "outputs": [],
   "source": [
    "import"
   ]
  },
  {
   "cell_type": "code",
   "execution_count": null,
   "metadata": {},
   "outputs": [],
   "source": [
    "data = \n",
    "\n",
    "\n",
    "\n",
    "# ====================\n",
    "\n",
    "tvec = \n",
    "T1 = \n",
    "Q1 = "
   ]
  },
  {
   "cell_type": "code",
   "execution_count": null,
   "metadata": {},
   "outputs": [],
   "source": [
    "\n",
    "u1 = lambda _t: 50 * np.sin(15 * 2 * np.pi * _t / tvec[-1]) + 50\n"
   ]
  },
  {
   "cell_type": "code",
   "execution_count": null,
   "metadata": {},
   "outputs": [],
   "source": [
    "IC = [T_amb, T_amb]\n",
    "Ua = \n",
    "Ub = \n",
    "CpH = \n",
    "CpS = "
   ]
  },
  {
   "cell_type": "markdown",
   "metadata": {},
   "source": [
    "---\n",
    "\n",
    "## 1. Two State Model (ODE)"
   ]
  },
  {
   "cell_type": "code",
   "execution_count": null,
   "metadata": {},
   "outputs": [],
   "source": [
    "def ode1(t, y):\n",
    "    TH1, TS1 = y\n",
    "    dTH1 = (Ua * (T_amb - TH1) + Ub * (TS1 - TH1) + alpha * P1 * u1(t)) / CpH\n",
    "    dTS1 = Ub * (TH1 - TS1) / CpS\n",
    "    return [dTH1, dTS1]\n",
    "\n",
    "soln = []\n",
    "soln.append(solve_ivp(ode1, [tvec[0], tvec[-1]], IC, t_eval=tvec))"
   ]
  },
  {
   "cell_type": "markdown",
   "metadata": {},
   "source": [
    "---\n",
    "\n",
    "## 2. GP of State"
   ]
  },
  {
   "cell_type": "code",
   "execution_count": null,
   "metadata": {},
   "outputs": [],
   "source": [
    "GP_TS1 = FoKLRoutines.FoKL(kernel=1)\n",
    "GP_TS1.fit()\n",
    "\n",
    "def ode2(t, y):\n",
    "    TH1, TS1 = y\n",
    "    dTH1 = (Ua * (T_amb - TH1) + Ub * (TS1 - TH1) + alpha * P1 * u1(t)) / CpH\n",
    "    dTS1 = GP_TS1.evaluate(t) - TS1\n",
    "    return [dTH1, dTS1]\n",
    "\n",
    "soln.append(solve_ivp(ode2, [tvec[0], tvec[-1]], IC, t_eval=tvec))"
   ]
  },
  {
   "cell_type": "markdown",
   "metadata": {},
   "source": [
    "---\n",
    "\n",
    "## 3. GP of State's Derivative"
   ]
  },
  {
   "cell_type": "code",
   "execution_count": null,
   "metadata": {},
   "outputs": [],
   "source": [
    "GP_dTS1 = FoKLRoutines.FoKL(kernel=1)\n",
    "GP_dTS1.fit()\n",
    "\n",
    "def ode3(t, y):\n",
    "    # IF t IS CURRENT TIME:\n",
    "    TH1, TS1 = y\n",
    "    dTH1 = (Ua * (T_amb - TH1) + Ub * (TS1 - TH1) + alpha * P1 * u1(t)) / CpH\n",
    "    dTS1 = GP_dTS1.evaluate(t)\n",
    "    return [dTH1, dTS1]\n",
    "    # ELSE IF t IS NEXT TIME:\n",
    "    TH1, TS1, t0 = y\n",
    "    dTH1 = (Ua * (T_amb - TH1) + Ub * (TS1 - TH1) + alpha * P1 * u1(t)) / CpH\n",
    "    dTS1 = GP_dTS1.evaluate(t0)\n",
    "    return [dTH1, dTS1, t]\n",
    "\n",
    "soln.append(solve_ivp(ode3, [tvec[0], tvec[-1]], IC, t_eval=tvec))"
   ]
  },
  {
   "cell_type": "markdown",
   "metadata": {},
   "source": [
    "---\n",
    "\n",
    "## 4. GP of Residual"
   ]
  },
  {
   "cell_type": "code",
   "execution_count": null,
   "metadata": {},
   "outputs": [],
   "source": []
  }
 ],
 "metadata": {
  "kernelspec": {
   "display_name": "Python 3",
   "language": "python",
   "name": "python3"
  },
  "language_info": {
   "codemirror_mode": {
    "name": "ipython",
    "version": 3
   },
   "file_extension": ".py",
   "mimetype": "text/x-python",
   "name": "python",
   "nbconvert_exporter": "python",
   "pygments_lexer": "ipython3",
   "version": "3.12.3"
  }
 },
 "nbformat": 4,
 "nbformat_minor": 2
}
