{
 "cells": [
  {
   "cell_type": "markdown",
   "metadata": {},
   "source": [
    "# <h1 style=\"text-align: center;\">Optimal Control of TCLab using a Gaussian process regression embedded in Pyomo</h1>\n",
    "\n",
    "<p style=\"text-align: center;\">Alex Dowling<sup>1,a</sup>, Jacob P. Krell<sup>2</sup>, David S. Mebane<sup>2,b</sup>, Kyla Jones<sup>1</sup></p>\n",
    "\n",
    "<p style=\"text-align: center;\"><sup>1</sup>Department of Chemical and Biomolecular Engineering, University of Notre Dame, Notre Dame, IN 46556, USA <br>\n",
    "<sup>2</sup>Department of Mechanical and Aerospace Engineering, West Virginia University, Morgantown, WV, 26506-6106, USA</p>\n",
    "\n",
    "<sup>a</sup>adowling@nd.edu <br>\n",
    "<sup>b</sup>david.mebane@mail.wvu.edu\n",
    "\n",
    "---\n",
    "\n",
    "## Introduction\n",
    "\n",
    "TCLab has been modeled as a two state model, i.e., two-state ODE, predicting temperatures $T_{H,1}$ and $T_{S,1}$. However, a Gaussian process (GP) trained with measurements of $T_{S,1}$ may improve prediction accuracy. If the GP is trained on either $T_{S,1}$ or its numerically-calculated time derivative $\\Delta T_{S,1}$, the GP may be plugged into the ODE to obtain $T_{H,1}$ predictions. The residual, i.e., the difference between ODE predictions and experimental measurements of $T_{S,1}$, may also be modeled with a GP to more accurately adjust predictions. These three methods are explored as follows.\n",
    "\n",
    "### 1. Two-State Model\n",
    "\n",
    "This is the original two-state ODE that will serve as a reference for comparison. The GP methods must outperform this benchmark.\n",
    "\n",
    "$$\\begin{align} \n",
    "\\tag{1a} C^H_p\\frac{dT_{H,1}}{dt} & = U_a(T_{amb} - T_{H,1}) + U_b(T_{S,1} - T_{H,1}) + \\alpha P_1u_1 \\\\ \n",
    "\\tag{1b} C^S_p\\frac{dT_{S,1}}{dt} & = U_b(T_{H,1} - T_{S,1}) \n",
    "\\end{align}$$\n",
    "\n",
    "### 2. GP of $T_{S,1}$\n",
    "\n",
    "Most simple would be to train the GP model $\\mathbf{GP}_{T_{S,1}}$ on $\\{T_{S,1} |\\ t\\}$; however, more physically true would be $\\{T_{S,1} |\\ t,\\ Q_1,\\ Q_2\\}$.\n",
    "\n",
    "#### 2.1. Univariate GP\n",
    "\n",
    "A single-state ODE is formed.\n",
    "\n",
    "$$\\tag{2.1} C^H_p\\frac{dT_{H,1}}{dt} = U_a(T_{amb} - T_{H,1}) + U_b(\\mathbf{GP}_{T_{S,1}}(t) - T_{H,1}) + \\alpha P_1u_1$$\n",
    "\n",
    "#### 2.2. Multivariate GP\n",
    "\n",
    "##### 2.2.1. Direct Implementation\n",
    "\n",
    "A single-state ODE is formed.\n",
    "\n",
    "$$\\tag{2.2.1} C^H_p\\frac{dT_{H,1}}{dt} = U_a(T_{amb} - T_{H,1}) + U_b(\\mathbf{GP}_{T_{S,1}}(t, Q_1(t), Q_2(t)) - T_{H,1}) + \\alpha P_1u_1$$\n",
    "\n",
    "##### 2.2.2. Derivative via Chain Rule\n",
    "\n",
    "A two-state ODE is formed. See Equation $(1a)$ for Equation $(2.2.2a)$.\n",
    "\n",
    "$$\\tag{2.2.2b} \\frac{dT_{S,1}}{dt} = \\frac{\\partial \\mathbf{GP}_{T_{S,1}}}{\\partial t} + \\left(\\frac{\\partial \\mathbf{GP}_{T_{S,1}}}{\\partial Q_1}\\right) \\left(\\frac{dQ_1}{dt}\\right) + \\left(\\frac{\\partial \\mathbf{GP}_{T_{S,1}}}{\\partial Q_2}\\right) \\left(\\frac{dQ_2}{dt}\\right) \\text{ at } t$$\n",
    "\n",
    "### 3. GP of $\\Delta T_{S,1}$\n",
    "\n",
    "Applying a smoothing function to $T_{S,1}$ measurements before taking the numerical gradient to arrive at $\\Delta T_{S,1}$, $\\mathbf{GP}_{\\Delta T_{S,1}}$ may be trained on the simple $\\{\\Delta T_{S,1}\\ |\\ t\\}$ or multivariate $\\{\\Delta T_{S,1}\\ |\\ t,\\ Q_1,\\ Q_2\\}$.\n",
    "\n",
    "#### 3.1. Univariate GP\n",
    "\n",
    "A two-state ODE is formed. See Equation $(1a)$ for Equation $(3.1a)$.\n",
    "\n",
    "$$\\tag{3.1b} \\frac{dT_{S,1}}{dt} = \\mathbf{GP}_{\\Delta T_{S,1}}(t)$$\n",
    "\n",
    "#### 3.2. Multivariate GP\n",
    "\n",
    "A two-state ODE is formed. See Equation $(1a)$ for Equation $(3.2a)$.\n",
    "\n",
    "$$\\tag{3.2b} \\frac{dT_{S,1}}{dt} = \\mathbf{GP}_{\\Delta T_{S,1}}(t, Q_1(t), Q_2(t))$$\n",
    "\n",
    "### 4. Residual\n",
    "\n",
    "The residual of any of the above predictions may be modeled as a GP, $\\mathbf{GP}_\\text{res}$. However, constraining the overall method to one GP, only the residual of [Two-State Model](#1-two-state-model) will be trained. The training set is formed by $\\{\\left(T_{S,1}\\right)_\\text{obs} - \\left(T_{S,1}\\right)_\\text{ODE}\\ |\\ t\\}$ where $\\text{obs}$ is an observation, i.e., experimental measurement, and $\\text{ODE}$ is a prediction from Equation $(1)$. With the residual modeled, the prediction is enhanced with the following.\n",
    "\n",
    "$$\\tag{4} T_{S,1} = \\left(T_{S,1}\\right)_\\text{ODE} + \\mathbf{GP}_\\text{res}$$\n",
    "\n",
    "---\n",
    "\n",
    "## Implementation\n",
    "\n",
    "Import modules:"
   ]
  },
  {
   "cell_type": "code",
   "execution_count": 26,
   "metadata": {},
   "outputs": [],
   "source": [
    "from FoKL import FoKLRoutines\n",
    "# from FoKL.fokl_to_pyomo import fokl_to_pyomo\n",
    "import os\n",
    "dir = os.path.abspath('')  # directory of notebook\n",
    "# -----------------------------------------------------------------------\n",
    "# UNCOMMENT IF USING LOCAL FOKL PACKAGE:\n",
    "import sys\n",
    "sys.path.append(os.path.join(dir, '..', '..'))  # package directory\n",
    "from src.FoKL import FoKLRoutines\n",
    "from src.FoKL.fokl_to_pyomo import fokl_to_pyomo\n",
    "# -----------------------------------------------------------------------\n",
    "import pandas as pd\n",
    "import numpy as np\n",
    "from scipy.integrate import solve_ivp\n",
    "import matplotlib.pyplot as plt"
   ]
  },
  {
   "cell_type": "markdown",
   "metadata": {},
   "source": [
    "Systems-level parameters:"
   ]
  },
  {
   "cell_type": "code",
   "execution_count": 27,
   "metadata": {},
   "outputs": [],
   "source": [
    "filename = \"tclab_sine_test.csv\"\n",
    "tmax = None  # maximum time for normalization bounds (increases ability to extrapolate GP models); 'None' uses data's max"
   ]
  },
  {
   "cell_type": "markdown",
   "metadata": {},
   "source": [
    "Load and parse data:"
   ]
  },
  {
   "cell_type": "code",
   "execution_count": 43,
   "metadata": {},
   "outputs": [],
   "source": [
    "data = pd.read_csv(os.path.join(dir, filename))\n",
    "\n",
    "Q1_obs = data[\"Q1\"].values\n",
    "Q2_obs = data[\"Q2\"].values\n",
    "TS1_obs = data[\"T1\"].values\n",
    "t_obs = data[\"Time\"].values"
   ]
  },
  {
   "cell_type": "markdown",
   "metadata": {},
   "source": [
    "Smooth $T_{S,1}$ to obtain $\\Delta T_{S,1}$:"
   ]
  },
  {
   "cell_type": "code",
   "execution_count": null,
   "metadata": {},
   "outputs": [],
   "source": [
    "# TS1_smooth = \n",
    "# dTS1 = gradient(TS1_smooth)"
   ]
  },
  {
   "cell_type": "markdown",
   "metadata": {},
   "source": [
    "Train GPs:"
   ]
  },
  {
   "cell_type": "code",
   "execution_count": 42,
   "metadata": {},
   "outputs": [
    {
     "name": "stderr",
     "output_type": "stream",
     "text": [
      "/home/jacobpatrick/ESMS/support/FoKL-GPy-tclab_v4/examples/pyomo_tclab/../../src/FoKL/FoKLRoutines.py:271: UserWarning: 'data' was auto-converted to numpy. Convert manually for assured accuracy.\n",
      "  warnings.warn(\"'data' was auto-converted to numpy. Convert manually for assured accuracy.\",\n",
      "/home/jacobpatrick/ESMS/support/FoKL-GPy-tclab_v4/examples/pyomo_tclab/../../src/FoKL/FoKLRoutines.py:290: UserWarning: 'inputs' was transposed. Ignore if more datapoints than input variables, else set 'AutoTranspose=False' to disable.\n",
      "  warnings.warn(\"'inputs' was transposed. Ignore if more datapoints than input variables, else set \"\n"
     ]
    },
    {
     "name": "stdout",
     "output_type": "stream",
     "text": [
      "[1, 3592.127247512837]\n",
      "[2, 3587.245251431803]\n",
      "[2, 2325.6195698812176]\n",
      "[3, 2307.576809156444]\n",
      "[3, 574.1060402705099]\n",
      "[4, 580.4618338175072]\n",
      "[4, 546.3840207701105]\n",
      "[4, -324.8212772396926]\n",
      "[5, -324.8212772396926]\n",
      "[5, -324.8212772396926]\n",
      "[5, -377.7272626032877]\n",
      "[6, -377.7272626032877]\n",
      "[6, -377.7272626032877]\n",
      "[6, -384.6794778944836]\n",
      "[6, -387.9020683247104]\n",
      "[7, -387.9020683247104]\n",
      "[7, -387.9020683247104]\n",
      "[7, -383.9482776626703]\n"
     ]
    },
    {
     "data": {
      "image/png": "[encoded data removed]",
      "text/plain": [
       "<Figure size 640x480 with 1 Axes>"
      ]
     },
     "metadata": {},
     "output_type": "display_data"
    },
    {
     "data": {
      "text/plain": [
       "(array([24.02903701, 24.13170224, 24.23477368, 24.33448283, 24.43295111,\n",
       "        24.53033028, 24.64566904, 24.76005189, 24.87356057, 25.00496937,\n",
       "        25.1336243 , 25.28374177, 25.43106417, 25.59604086, 25.76008178,\n",
       "        25.94183272, 26.12272281, 26.32155602, 26.51968947, 26.73617314,\n",
       "        26.95218986, 27.18709806, 27.42180568, 27.67600514, 27.93024283,\n",
       "        28.20452261, 28.45873187, 28.73307383, 29.00732261, 29.28133727,\n",
       "        29.55327349, 29.84701764, 30.12119342, 30.39286208, 30.66358817,\n",
       "        30.93323953, 31.18134682, 31.42668895, 31.67415957, 31.89868281,\n",
       "        32.12212698, 32.32456904, 32.52604746, 32.70674157, 32.88654516,\n",
       "        33.04564107, 33.20384422, 33.34124376, 33.47766364, 33.59146477,\n",
       "        33.70722878, 33.79997752, 33.89139563, 33.95937743, 34.02737968,\n",
       "        34.07453587, 34.13964996, 34.18238523, 34.22378992, 34.26399607,\n",
       "        34.28185583, 34.32005476, 34.35746658, 34.39421763, 34.43043288,\n",
       "        34.46623591, 34.52268298, 34.57871637, 34.63440067, 34.70903033,\n",
       "        34.78593726, 34.88144796, 34.97634363, 35.08960114, 35.20349789,\n",
       "        35.33829204, 35.47100563, 35.62330497, 35.77491319, 35.94628296,\n",
       "        36.11707915, 36.30793445, 36.49836687, 36.70921265, 36.91976669,\n",
       "        37.12870941, 37.36090838, 37.5915049 , 37.8216412 , 38.05120375,\n",
       "        38.30139618, 38.52945655, 38.75658918, 38.98268613, 39.20764078,\n",
       "        39.43134788, 39.63282295, 39.83310599, 40.03214551, 40.20936386,\n",
       "        40.3855049 , 40.54022029, 40.69403244, 40.82674424, 40.95868568,\n",
       "        41.06972475, 41.18005731, 41.269532  , 41.35828758, 41.42608004,\n",
       "        41.49307643, 41.53888723, 41.5837914 , 41.60723032, 41.62966713,\n",
       "        41.62934725, 41.65094241, 41.64979434, 41.64782606, 41.64412662,\n",
       "        41.62090403, 41.61713449, 41.61298308, 41.60855106, 41.60393835,\n",
       "        41.59924359, 41.61507846, 41.630773  , 41.64637708, 41.68211178,\n",
       "        41.71759746, 41.7718827 , 41.82765427, 41.90190888, 41.97562273,\n",
       "        42.06856968, 42.16091276, 42.27242871, 42.38334784, 42.5135158 ,\n",
       "        42.64315284, 42.79222092, 42.94085458, 43.10827662, 43.27709911,\n",
       "        43.46491569, 43.63206007, 43.81905844, 44.0055498 , 44.19144448,\n",
       "        44.39703977, 44.58144644, 44.76416205, 44.94754886, 45.12907715,\n",
       "        45.28862661, 45.46873738, 45.62695197, 45.78408638, 45.91972072,\n",
       "        46.05598639, 46.17113309, 46.28554205, 46.37992017, 46.47369504,\n",
       "        46.54764592, 46.62033589, 46.67474047, 46.72789189, 46.76052594,\n",
       "        46.79402377, 46.80614485, 46.81903308, 46.81105904, 46.80237032,\n",
       "        46.77334578, 46.76332707, 46.73299199, 46.70209429, 46.67071807,\n",
       "        46.61916515, 46.58710487, 46.55482648, 46.52240886, 46.48992966,\n",
       "        46.45681506, 46.44448623, 46.43145816, 46.41841836, 46.42450913,\n",
       "        46.4304464 , 46.45518691, 46.47900961, 46.52260649, 46.56517623,\n",
       "        46.62610707, 46.68657647, 46.76535216, 46.84367061, 46.94035366,\n",
       "        47.0366331 , 47.15142356, 47.26589025, 47.39848902, 47.5319711 ,\n",
       "        47.68375429, 47.81608819, 47.96728411, 48.11811227, 48.26796556,\n",
       "        48.43764633, 48.58694012, 48.7355848 , 48.88351672, 49.03067345,\n",
       "        49.17699376, 49.30350794, 49.42925499, 49.55420805, 49.65968524,\n",
       "        49.76401659, 49.85014207, 49.93525607, 50.00143025, 50.06718167,\n",
       "        50.11414264, 50.16073191, 50.18857316, 50.21603958, 50.22469747,\n",
       "        50.23293212, 50.2222173 , 50.21100638, 50.1806646 , 50.14932426,\n",
       "        50.09912749, 50.06760357, 50.01635052, 49.96463804, 49.91252994,\n",
       "        49.84120032, 49.78850124, 49.73560271, 49.68256352, 49.62944126,\n",
       "        49.57629231, 49.54180236, 49.50724541, 49.47264792, 49.45646566,\n",
       "        49.44014503, 49.44201606, 49.44365199, 49.46330334, 49.4826516 ,\n",
       "        49.51991775, 49.55685645, 49.61170737, 49.66625309, 49.73879324,\n",
       "        49.81108898, 49.90152931, 49.9918063 , 50.10041111, 50.20892635,\n",
       "        50.33593716, 50.44423134, 50.57103674, 50.69769039, 50.82381519,\n",
       "        50.96907472, 51.09496928, 51.22050846, 51.34564704, 51.47034094,\n",
       "        51.59454729, 51.69968825, 51.80437734, 51.9085971 , 51.99394973,\n",
       "        52.07891546, 52.14519101, 52.21115888, 52.25856967, 52.3057255 ,\n",
       "        52.33438733, 52.36280814, 52.3727175 , 52.38208082, 52.37339509,\n",
       "        52.36410292, 52.33605257, 52.30732756, 52.26019893, 52.21232317,\n",
       "        52.14533741, 52.09654113, 52.02861048, 51.96024911, 51.89150236,\n",
       "        51.80360946, 51.73422026, 51.6645831 , 51.59473846, 51.52472563,\n",
       "        51.45458273, 51.40304716, 51.35137597, 51.29958612, 51.26629432,\n",
       "        51.23283966, 51.21777952, 51.20229805, 51.20536301, 51.20841706,\n",
       "        51.22957282, 51.25051738, 51.28983327, 51.3289832 , 51.38662029,\n",
       "        51.44416314, 51.52035511, 51.59653783, 51.69155308, 51.78663818,\n",
       "        51.90072727, 51.9959377 , 52.11019137, 52.2245016 , 52.3388351 ,\n",
       "        52.47226454, 52.58655866, 52.70077646, 52.81488942, 52.92887017,\n",
       "        53.04269251, 53.13726732, 53.23168147, 53.32592556, 53.40098187,\n",
       "        53.47589455, 53.53167494, 53.58733385, 53.62388457, 53.66031694,\n",
       "        53.67761785, 53.69477739, 53.69272953, 53.69049085, 53.66892026,\n",
       "        53.64692441, 53.60576448, 53.56409896, 53.50276411, 53.44085642,\n",
       "        53.35942407, 53.29684923, 53.21439285, 53.1315214 , 53.04826311,\n",
       "        52.94503786, 52.86092801, 52.77679395, 52.69223915, 52.60729283,\n",
       "        52.52224453, 52.45675083, 52.390916  , 52.32487912, 52.2782847 ,\n",
       "        52.23149432, 52.20415388, 52.17651043, 52.16858175, 52.16037425,\n",
       "        52.17171311, 52.18293317, 52.21380226, 52.24461407, 52.2951016 ,\n",
       "        52.34582534, 52.41638395, 52.48704111, 52.57781015, 52.66875322,\n",
       "        52.77996662, 52.8712641 , 52.98288495, 53.09470346, 53.20670206,\n",
       "        53.33913624, 53.45146891, 53.56393249, 53.67651412, 53.78920204,\n",
       "        53.90198561, 53.99449591, 54.08706895, 54.17970255, 54.25200497,\n",
       "        54.32434651, 54.37630909, 54.42828472, 54.45981562, 54.49132261,\n",
       "        54.50229537, 54.51319446, 54.50344587, 54.49356241, 54.46289809,\n",
       "        54.43203024, 54.38023605, 54.3281679 , 54.25502516, 54.18154275,\n",
       "        54.08684533, 54.01258165, 53.91723806, 53.82143144, 53.72526724,\n",
       "        53.60770958, 53.5108348 , 53.41363287, 53.31611093, 53.21827503,\n",
       "        53.12013005, 53.04286595, 52.96534068, 52.88755469, 52.83076058,\n",
       "        52.77374997, 52.73782417, 52.70173028, 52.68682446, 52.67180517,\n",
       "        52.67808826, 52.68431819, 52.71197357, 52.7396396 , 52.78885881,\n",
       "        52.83815286, 52.90912768, 52.98023888, 53.07309057, 53.16619792,\n",
       "        53.28128949, 53.37480189, 53.49028501, 53.60600504, 53.72189102,\n",
       "        53.86001805, 53.9764662 , 54.09314848, 54.21006716, 54.3271519 ,\n",
       "        54.44462829, 54.54023973, 54.63604627, 54.73205264, 54.80605215,\n",
       "        54.88035203, 54.93252464, 54.98478364, 55.01478995, 55.04497796,\n",
       "        55.05278908, 55.06056454, 55.04592252, 55.03118807, 54.99392664,\n",
       "        54.95652219, 54.89649303, 54.83627698, 54.75327905, 54.6701964 ,\n",
       "        54.56418422, 54.48062852, 54.37417189, 54.2674457 , 54.16044592,\n",
       "        54.03048766, 53.92289707, 53.81501203, 53.70682376, 53.59832234,\n",
       "        53.4894967 , 53.40320678, 53.31659587, 53.22980468, 53.16566418,\n",
       "        53.10131056, 53.05980181, 53.01815022, 52.99948535, 52.9807459 ,\n",
       "        52.98512253, 52.98948521, 53.01707351, 53.04469694, 53.09563159,\n",
       "        53.14663757, 53.2210167 , 53.2954925 , 53.39338557, 53.49139604,\n",
       "        53.58947867, 53.71112963, 53.83288506, 53.95475355, 54.07690239,\n",
       "        54.22259976, 54.34511876, 54.46786376, 54.59085224, 54.7141028 ,\n",
       "        54.83763517, 54.93785946, 55.03825777, 55.13902115, 55.21624144,\n",
       "        55.29363731, 55.34739124, 55.40118422, 55.43131016, 55.4614066 ,\n",
       "        55.46758766, 55.47374687, 55.45583943, 55.43799711, 55.39603641,\n",
       "        55.35394397, 55.2878969 , 55.22171777, 55.13147428, 55.04116244,\n",
       "        54.92680005, 54.83633204, 54.72179805, 54.6071548 , 54.49238212,\n",
       "        54.35346117, 54.23834569, 54.12302818, 54.00748371, 53.89168621,\n",
       "        53.77560846, 53.68341538, 53.59098246, 53.49825132, 53.42966728,\n",
       "        53.36085587, 53.31626931, 53.27157426, 53.25125209, 53.23088718,\n",
       "        53.21043872, 53.23908895, 53.26776101, 53.29649577, 53.34970898,\n",
       "        53.40302   , 53.48081639, 53.55860092, 53.66084758, 53.76305259,\n",
       "        53.88965172, 53.9917926 , 54.11832687, 54.24485687, 54.37136483,\n",
       "        54.49797287, 54.64907289, 54.77590353, 54.90293954, 55.03011995,\n",
       "        55.15752803, 55.26056887, 55.36385491, 55.46740614, 55.54636646,\n",
       "        55.62557109, 55.68001731, 55.73458367, 55.76439471, 55.79411779,\n",
       "        55.79898908, 55.80388519, 55.78375013, 55.76364028, 55.71867661,\n",
       "        55.67362817, 55.60386484, 55.53412064, 55.43969787, 55.34535601,\n",
       "        55.22655943, 55.13245517, 55.01387328, 54.89543446, 54.77701309,\n",
       "        54.63405903, 54.51559778, 54.39715947, 54.27857132, 54.15983408,\n",
       "        54.04090368, 53.94641138, 53.85182763, 53.75699901, 53.68680915,\n",
       "        53.61648115, 53.57095179, 53.52531061, 53.50468608, 53.48400181,\n",
       "        53.48832168, 53.4926439 , 53.52196864, 53.55127434, 53.60550158,\n",
       "        53.65965012, 53.73857042, 53.81732646, 53.92066196, 54.02374506,\n",
       "        54.15121596, 54.25380918, 54.38074949, 54.50741907, 54.63394644,\n",
       "        54.78483981, 54.91113936, 55.03740965, 55.16370128, 55.29006603,\n",
       "        55.41655684, 55.51861204, 55.62078946, 55.72311733, 55.80085813,\n",
       "        55.87868852, 55.93173778, 55.98487792, 56.01311226, 56.04132355,\n",
       "        56.04460869, 56.04786497, 56.02623077, 56.00460981, 55.9582283 ,\n",
       "        55.91194708, 55.84111644, 55.77050329, 55.67560173, 55.58103743,\n",
       "        55.46241182, 55.36854268, 55.25067611, 55.13313335, 55.01585966,\n",
       "        54.87469072, 54.75779725, 54.64098916, 54.52420673, 54.40738905,\n",
       "        54.29047398, 54.19762785, 54.10466958, 54.01156604, 53.94266129,\n",
       "        53.87366367, 53.82901537, 53.78433459, 53.76411466, 53.74389883,\n",
       "        53.74817655, 53.75245034, 53.78114906, 53.80978242, 53.86266687,\n",
       "        53.91537497, 53.99207088, 54.06844739, 54.16849554, 54.26808109,\n",
       "        54.39102778, 54.48970394, 54.61166517, 54.73314637, 54.85431319,\n",
       "        54.99864461, 55.11919782, 55.23955626, 55.35987416, 55.48013785,\n",
       "        55.60044766, 55.69723676, 55.79409526, 55.89106181, 55.96437426,\n",
       "        56.03772304, 56.08729649, 56.1368449 , 56.16246758, 56.18805027,\n",
       "        56.18968527, 56.19129756, 56.16905618, 56.14687009, 56.1010443 ,\n",
       "        56.0554078 , 55.98644724, 55.917846  , 55.82629641, 55.73527605,\n",
       "        55.62165633, 55.53169838, 55.41923497, 55.30726359, 55.19578234,\n",
       "        55.06188679, 54.95108694, 54.84045604, 54.72994172, 54.61946338,\n",
       "        54.50893918, 54.42112559, 54.33322908, 54.24520575, 54.17998139,\n",
       "        54.1147176 , 54.07249233, 54.03021417, 54.01105016, 53.99190454,\n",
       "        53.99588999, 53.99987201, 54.02687669, 54.05379101, 54.10345183,\n",
       "        54.15291508, 54.2248552 , 54.29633734, 54.38985197, 54.48273329,\n",
       "        54.59732062, 54.68906768, 54.8023621 , 54.91509164, 55.0273422 ,\n",
       "        55.1610374 , 55.2725731 , 55.38391307, 55.49514854, 55.60637202,\n",
       "        55.71767732, 55.80716888, 55.89677822, 55.98655649, 56.05436323,\n",
       "        56.12227769, 56.16802583, 56.21380836, 56.23728429, 56.26075367,\n",
       "        56.26188577, 56.26303106, 56.24194802, 56.22096994, 56.17801597,\n",
       "        56.13532425, 56.07101433, 56.00719375, 55.92219546, 55.83785024,\n",
       "        55.73276908, 55.64969155, 55.54597322, 55.44283834, 55.34026434,\n",
       "        55.21712805, 55.1152813 , 55.01363181, 54.91207845, 54.81051879,\n",
       "        54.7088491 , 54.62806211, 54.54716581, 54.46606832, 54.40611985,\n",
       "        54.34596519, 54.30723312, 54.26838312, 54.25109309, 54.23387038,\n",
       "        54.21658451, 54.242522  , 54.26835494, 54.29408541, 54.34116528,\n",
       "        54.38799587, 54.4557299 , 54.5230716 , 54.6108906 , 54.69814011,\n",
       "        54.80546301, 54.89164419, 54.99783386, 55.10355308, 55.20891208,\n",
       "        55.3139841 , 55.43922952, 55.54419889, 55.64928453, 55.75460368,\n",
       "        55.86027493, 55.94588292, 56.03182129, 56.11826752, 56.18434024,\n",
       "        56.25074178, 56.29649935, 56.34246324, 56.36753618, 56.39272818,\n",
       "        56.39690794, 56.40114473, 56.38449528, 56.36796559, 56.33066679,\n",
       "        56.29366691, 56.2362373 , 56.17928515, 56.10231602, 56.02599224,\n",
       "        55.93004064, 55.8549182 , 55.76021334, 55.66602098, 55.57222124,\n",
       "        55.45879697, 55.3654106 , 55.27202516, 55.17851511, 55.08475355,\n",
       "        54.99054688, 54.91625957, 54.84154016, 54.76638319, 54.71138874,\n",
       "        54.65610449, 54.62138518, 54.58654709, 54.57261807, 54.55870758,\n",
       "        54.56592198, 54.57322281, 54.60169875, 54.63024601, 54.67984948,\n",
       "        54.7294355 , 54.79982119, 54.8700601 , 54.96077212, 55.05122523,\n",
       "        55.16185966, 55.25194388, 55.36223585, 55.47250434, 55.58288754,\n",
       "        55.7137038 , 55.82477554, 55.93641117, 56.04875485, 56.16195216,\n",
       "        56.27615018, 56.37057336, 56.4661723 , 56.56267638, 56.63898505,\n",
       "        56.71610966, 56.77249358, 56.82946063, 56.86520524, 56.90133606,\n",
       "        56.91590138, 56.93073014, 56.92382894, 56.91715702, 56.88877275,\n",
       "        56.86066208, 56.81100478, 56.76170817, 56.69110611, 56.62093262,\n",
       "        56.52965789, 56.46015804, 56.36947511, 56.2787558 , 56.18833766,\n",
       "        56.07619537]),\n",
       " array([[23.55596017, 24.54132791],\n",
       "        [23.67800404, 24.59825567],\n",
       "        [23.81779298, 24.66419215],\n",
       "        ...,\n",
       "        [55.86831107, 56.71183767],\n",
       "        [55.74152615, 56.63713228],\n",
       "        [55.58645867, 56.56221212]]),\n",
       " 0.0006439421889640873)"
      ]
     },
     "execution_count": 42,
     "metadata": {},
     "output_type": "execute_result"
    }
   ],
   "source": [
    "# Initialize each GP with FoKL class:\n",
    "GPs = {\"list\": [\"TS1\", \"TS1_multi\" , \"dTS1\", \"dTS1_multi\", \"res\"]}  # names of GPs\n",
    "for GP in GPs[\"list\"]:\n",
    "    GPs.update({GP: FoKLRoutines.FoKL(kernel=1)})\n",
    "\n",
    "# Convert system parameter 'tmax' to percent:\n",
    "if tmax is None:\n",
    "    tmax_p = 0\n",
    "else:\n",
    "    tmax_p = (tmax - t_obs[-1]) / (t_obs[-1] - t_obs[0])\n",
    "\n",
    "# Train GPs (except 'res'):\n",
    "# GPs[\"TS1\"].fit(data[\"Time\"], data[\"T1\"], clean=True, pillow=[[0, tmax_p]])\n",
    "GPs[\"TS1_multi\"].fit([t_obs, Q1_obs], TS1_obs, clean=True, pillow=[[0, tmax_p], [0, 0]])\n",
    "# GPs[\"dTS1\"].fit(t, dTS1, clean=True, pillow=[[0, tmax_p]])\n",
    "# _ = GPs[\"dTS1_multi\"].fit([t, Q1, Q2], dTS1, clean=True, pillow=[[0, tmax_p], [0, 0], [0, 0]])"
   ]
  },
  {
   "cell_type": "markdown",
   "metadata": {},
   "source": [
    "Known heater power analytic expressions:"
   ]
  },
  {
   "cell_type": "code",
   "execution_count": null,
   "metadata": {},
   "outputs": [],
   "source": [
    "Q1_func = lambda _t: 50 * np.sin(30 * np.pi * _t / t[-1]) + 50\n",
    "Q2_func = lambda _t: 0"
   ]
  },
  {
   "cell_type": "markdown",
   "metadata": {},
   "source": [
    "ODE parameters:"
   ]
  },
  {
   "cell_type": "code",
   "execution_count": null,
   "metadata": {},
   "outputs": [],
   "source": [
    "alpha = 0.00016         # watts / (units P1 * percent U1)\n",
    "P1 = 200                # P1 units\n",
    "T_amb = TS1[0]          # ambient temperature\n",
    "\n",
    "IC2 = [T_amb, T_amb]    # initial condition of states [TH1, TS1]\n",
    "IC1 = IC2[0]            # initial condition of state [TH1]\n",
    "CpH =  7.006            # J/degC\n",
    "CpS = 0.01              # J/degC\n",
    "Ua =  0.051             # W/degC\n",
    "Ub =  0.001             # W/degC"
   ]
  },
  {
   "cell_type": "markdown",
   "metadata": {},
   "source": [
    "Define equations:"
   ]
  },
  {
   "cell_type": "code",
   "execution_count": null,
   "metadata": {},
   "outputs": [],
   "source": [
    "def eq_1a(TH1, TS1, Q1):\n",
    "    return (Ua * (T_amb - TH1) + Ub * (TS1 - TH1) + alpha * P1 * Q1) / CpH"
   ]
  },
  {
   "cell_type": "markdown",
   "metadata": {},
   "source": [
    "Define ODEs:"
   ]
  },
  {
   "cell_type": "code",
   "execution_count": null,
   "metadata": {},
   "outputs": [],
   "source": [
    "def ode_1(t, states):\n",
    "    TH1, TS1 = states\n",
    "    dTH1 = eq_1a(TH1, TS1, Q1_func(t))\n",
    "    dTS1 = Ub * (TH1 - TS1) / CpS\n",
    "    return [dTH1, dTS1]\n",
    "\n",
    "def ode_2_1(t, states):\n",
    "    TH1 = states\n",
    "    TS1 = GPs[\"TS1\"].evaluate(t)\n",
    "    dTH1 = eq_1a(TH1, TS1)\n",
    "    return [dTH1]\n",
    "\n",
    "# def ode_2_2(t, states):\n",
    "#     return\n",
    "\n",
    "odes = {'1': ode_1, '2.1': ode_2_1}"
   ]
  },
  {
   "cell_type": "markdown",
   "metadata": {},
   "source": [
    "Solve ODEs:"
   ]
  },
  {
   "cell_type": "code",
   "execution_count": 25,
   "metadata": {},
   "outputs": [
    {
     "ename": "ValueError",
     "evalue": "setting an array element with a sequence. The requested array has an inhomogeneous shape after 1 dimensions. The detected shape was (2,) + inhomogeneous part.",
     "output_type": "error",
     "traceback": [
      "\u001b[0;31m---------------------------------------------------------------------------\u001b[0m",
      "\u001b[0;31mValueError\u001b[0m                                Traceback (most recent call last)",
      "Cell \u001b[0;32mIn[25], line 16\u001b[0m\n\u001b[1;32m     13\u001b[0m     _is_uni \u001b[38;5;241m=\u001b[39m \u001b[38;5;28;01mFalse\u001b[39;00m  \u001b[38;5;66;03m# case is not univariate\u001b[39;00m\n\u001b[1;32m     14\u001b[0m     IC \u001b[38;5;241m=\u001b[39m IC2\n\u001b[0;32m---> 16\u001b[0m soln_i \u001b[38;5;241m=\u001b[39m \u001b[43msolve_ivp\u001b[49m\u001b[43m(\u001b[49m\u001b[43modes\u001b[49m\u001b[43m[\u001b[49m\u001b[43mcase\u001b[49m\u001b[43m]\u001b[49m\u001b[43m,\u001b[49m\u001b[43m \u001b[49m\u001b[43m[\u001b[49m\u001b[43mt\u001b[49m\u001b[43m[\u001b[49m\u001b[38;5;241;43m0\u001b[39;49m\u001b[43m]\u001b[49m\u001b[43m,\u001b[49m\u001b[43m \u001b[49m\u001b[43mt\u001b[49m\u001b[43m[\u001b[49m\u001b[38;5;241;43m-\u001b[39;49m\u001b[38;5;241;43m1\u001b[39;49m\u001b[43m]\u001b[49m\u001b[43m]\u001b[49m\u001b[43m,\u001b[49m\u001b[43m \u001b[49m\u001b[43mIC\u001b[49m\u001b[43m,\u001b[49m\u001b[43m \u001b[49m\u001b[43mt_eval\u001b[49m\u001b[38;5;241;43m=\u001b[39;49m\u001b[43mt\u001b[49m\u001b[43m)\u001b[49m  \u001b[38;5;66;03m# solve ODE\u001b[39;00m\n\u001b[1;32m     18\u001b[0m pred_i \u001b[38;5;241m=\u001b[39m pd\u001b[38;5;241m.\u001b[39mDataFrame()\n\u001b[1;32m     19\u001b[0m pred_i[\u001b[38;5;124m\"\u001b[39m\u001b[38;5;124mTH1\u001b[39m\u001b[38;5;124m\"\u001b[39m] \u001b[38;5;241m=\u001b[39m soln_i\u001b[38;5;241m.\u001b[39my[\u001b[38;5;241m0\u001b[39m]\n",
      "File \u001b[0;32m~/.local/lib/python3.12/site-packages/scipy/integrate/_ivp/ivp.py:621\u001b[0m, in \u001b[0;36msolve_ivp\u001b[0;34m(fun, t_span, y0, method, t_eval, dense_output, events, vectorized, args, **options)\u001b[0m\n\u001b[1;32m    618\u001b[0m \u001b[38;5;28;01mif\u001b[39;00m method \u001b[38;5;129;01min\u001b[39;00m METHODS:\n\u001b[1;32m    619\u001b[0m     method \u001b[38;5;241m=\u001b[39m METHODS[method]\n\u001b[0;32m--> 621\u001b[0m solver \u001b[38;5;241m=\u001b[39m \u001b[43mmethod\u001b[49m\u001b[43m(\u001b[49m\u001b[43mfun\u001b[49m\u001b[43m,\u001b[49m\u001b[43m \u001b[49m\u001b[43mt0\u001b[49m\u001b[43m,\u001b[49m\u001b[43m \u001b[49m\u001b[43my0\u001b[49m\u001b[43m,\u001b[49m\u001b[43m \u001b[49m\u001b[43mtf\u001b[49m\u001b[43m,\u001b[49m\u001b[43m \u001b[49m\u001b[43mvectorized\u001b[49m\u001b[38;5;241;43m=\u001b[39;49m\u001b[43mvectorized\u001b[49m\u001b[43m,\u001b[49m\u001b[43m \u001b[49m\u001b[38;5;241;43m*\u001b[39;49m\u001b[38;5;241;43m*\u001b[39;49m\u001b[43moptions\u001b[49m\u001b[43m)\u001b[49m\n\u001b[1;32m    623\u001b[0m \u001b[38;5;28;01mif\u001b[39;00m t_eval \u001b[38;5;129;01mis\u001b[39;00m \u001b[38;5;28;01mNone\u001b[39;00m:\n\u001b[1;32m    624\u001b[0m     ts \u001b[38;5;241m=\u001b[39m [t0]\n",
      "File \u001b[0;32m~/.local/lib/python3.12/site-packages/scipy/integrate/_ivp/rk.py:94\u001b[0m, in \u001b[0;36mRungeKutta.__init__\u001b[0;34m(self, fun, t0, y0, t_bound, max_step, rtol, atol, vectorized, first_step, **extraneous)\u001b[0m\n\u001b[1;32m     92\u001b[0m \u001b[38;5;28mself\u001b[39m\u001b[38;5;241m.\u001b[39mmax_step \u001b[38;5;241m=\u001b[39m validate_max_step(max_step)\n\u001b[1;32m     93\u001b[0m \u001b[38;5;28mself\u001b[39m\u001b[38;5;241m.\u001b[39mrtol, \u001b[38;5;28mself\u001b[39m\u001b[38;5;241m.\u001b[39matol \u001b[38;5;241m=\u001b[39m validate_tol(rtol, atol, \u001b[38;5;28mself\u001b[39m\u001b[38;5;241m.\u001b[39mn)\n\u001b[0;32m---> 94\u001b[0m \u001b[38;5;28mself\u001b[39m\u001b[38;5;241m.\u001b[39mf \u001b[38;5;241m=\u001b[39m \u001b[38;5;28;43mself\u001b[39;49m\u001b[38;5;241;43m.\u001b[39;49m\u001b[43mfun\u001b[49m\u001b[43m(\u001b[49m\u001b[38;5;28;43mself\u001b[39;49m\u001b[38;5;241;43m.\u001b[39;49m\u001b[43mt\u001b[49m\u001b[43m,\u001b[49m\u001b[43m \u001b[49m\u001b[38;5;28;43mself\u001b[39;49m\u001b[38;5;241;43m.\u001b[39;49m\u001b[43my\u001b[49m\u001b[43m)\u001b[49m\n\u001b[1;32m     95\u001b[0m \u001b[38;5;28;01mif\u001b[39;00m first_step \u001b[38;5;129;01mis\u001b[39;00m \u001b[38;5;28;01mNone\u001b[39;00m:\n\u001b[1;32m     96\u001b[0m     \u001b[38;5;28mself\u001b[39m\u001b[38;5;241m.\u001b[39mh_abs \u001b[38;5;241m=\u001b[39m select_initial_step(\n\u001b[1;32m     97\u001b[0m         \u001b[38;5;28mself\u001b[39m\u001b[38;5;241m.\u001b[39mfun, \u001b[38;5;28mself\u001b[39m\u001b[38;5;241m.\u001b[39mt, \u001b[38;5;28mself\u001b[39m\u001b[38;5;241m.\u001b[39my, \u001b[38;5;28mself\u001b[39m\u001b[38;5;241m.\u001b[39mf, \u001b[38;5;28mself\u001b[39m\u001b[38;5;241m.\u001b[39mdirection,\n\u001b[1;32m     98\u001b[0m         \u001b[38;5;28mself\u001b[39m\u001b[38;5;241m.\u001b[39merror_estimator_order, \u001b[38;5;28mself\u001b[39m\u001b[38;5;241m.\u001b[39mrtol, \u001b[38;5;28mself\u001b[39m\u001b[38;5;241m.\u001b[39matol)\n",
      "File \u001b[0;32m~/.local/lib/python3.12/site-packages/scipy/integrate/_ivp/base.py:154\u001b[0m, in \u001b[0;36mOdeSolver.__init__.<locals>.fun\u001b[0;34m(t, y)\u001b[0m\n\u001b[1;32m    152\u001b[0m \u001b[38;5;28;01mdef\u001b[39;00m \u001b[38;5;21mfun\u001b[39m(t, y):\n\u001b[1;32m    153\u001b[0m     \u001b[38;5;28mself\u001b[39m\u001b[38;5;241m.\u001b[39mnfev \u001b[38;5;241m+\u001b[39m\u001b[38;5;241m=\u001b[39m \u001b[38;5;241m1\u001b[39m\n\u001b[0;32m--> 154\u001b[0m     \u001b[38;5;28;01mreturn\u001b[39;00m \u001b[38;5;28;43mself\u001b[39;49m\u001b[38;5;241;43m.\u001b[39;49m\u001b[43mfun_single\u001b[49m\u001b[43m(\u001b[49m\u001b[43mt\u001b[49m\u001b[43m,\u001b[49m\u001b[43m \u001b[49m\u001b[43my\u001b[49m\u001b[43m)\u001b[49m\n",
      "File \u001b[0;32m~/.local/lib/python3.12/site-packages/scipy/integrate/_ivp/base.py:23\u001b[0m, in \u001b[0;36mcheck_arguments.<locals>.fun_wrapped\u001b[0;34m(t, y)\u001b[0m\n\u001b[1;32m     22\u001b[0m \u001b[38;5;28;01mdef\u001b[39;00m \u001b[38;5;21mfun_wrapped\u001b[39m(t, y):\n\u001b[0;32m---> 23\u001b[0m     \u001b[38;5;28;01mreturn\u001b[39;00m \u001b[43mnp\u001b[49m\u001b[38;5;241;43m.\u001b[39;49m\u001b[43masarray\u001b[49m\u001b[43m(\u001b[49m\u001b[43mfun\u001b[49m\u001b[43m(\u001b[49m\u001b[43mt\u001b[49m\u001b[43m,\u001b[49m\u001b[43m \u001b[49m\u001b[43my\u001b[49m\u001b[43m)\u001b[49m\u001b[43m,\u001b[49m\u001b[43m \u001b[49m\u001b[43mdtype\u001b[49m\u001b[38;5;241;43m=\u001b[39;49m\u001b[43mdtype\u001b[49m\u001b[43m)\u001b[49m\n",
      "\u001b[0;31mValueError\u001b[0m: setting an array element with a sequence. The requested array has an inhomogeneous shape after 1 dimensions. The detected shape was (2,) + inhomogeneous part."
     ]
    }
   ],
   "source": [
    "cases = ['1', '2.1']\n",
    "cases_uni = ['2.1']  # univariate ODEs\n",
    "# ------------------------------------\n",
    "\n",
    "soln = {}  # ODE solutions\n",
    "pred = {}  # dataframe of predictions\n",
    "for case in cases:\n",
    "    \n",
    "    if case in cases_uni:  # if single-state model\n",
    "        _is_uni = True  # case is univariate\n",
    "        IC = IC1\n",
    "    else:  # if two-state model\n",
    "        _is_uni = False  # case is not univariate\n",
    "        IC = IC2\n",
    "\n",
    "    soln_i = solve_ivp(odes[case], [t[0], t[-1]], IC, t_eval=t)  # solve ODE\n",
    "    \n",
    "    pred_i = pd.DataFrame()\n",
    "    pred_i[\"TH1\"] = soln_i.y[0]\n",
    "    if _is_uni is False:  # if two-state model\n",
    "        pred_i[\"TS1\"] = soln_i.y[1]\n",
    "        \n",
    "    soln.update({case, soln_i})\n",
    "    pred.update({case, pred_i})"
   ]
  }
 ],
 "metadata": {
  "kernelspec": {
   "display_name": "Python 3",
   "language": "python",
   "name": "python3"
  },
  "language_info": {
   "codemirror_mode": {
    "name": "ipython",
    "version": 3
   },
   "file_extension": ".py",
   "mimetype": "text/x-python",
   "name": "python",
   "nbconvert_exporter": "python",
   "pygments_lexer": "ipython3",
   "version": "3.12.3"
  }
 },
 "nbformat": 4,
 "nbformat_minor": 2
}
